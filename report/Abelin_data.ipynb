{
 "cells": [
  {
   "cell_type": "code",
   "execution_count": null,
   "id": "a1a97a07-d467-420f-bf0c-2f6ca5f899cc",
   "metadata": {},
   "outputs": [],
   "source": [
    "import pandas as pd\n",
    "import numpy as np\n",
    "import os\n",
    "import random\n",
    "import re\n",
    "import matplotlib.pyplot as plt"
   ]
  },
  {
   "cell_type": "code",
   "execution_count": null,
   "id": "7ea021b1-c67c-4128-b7ba-d0854b7f1e88",
   "metadata": {},
   "outputs": [],
   "source": [
    "os.getcwd()"
   ]
  },
  {
   "cell_type": "code",
   "execution_count": null,
   "id": "55e8e34c-6227-40f5-a476-67d36d1aec89",
   "metadata": {},
   "outputs": [],
   "source": [
    "data = pd.read_csv(\"abelin_mono_pep.csv\")\n",
    "data= data[[\"peptide\",\"HLA\"]]"
   ]
  },
  {
   "cell_type": "code",
   "execution_count": null,
   "id": "cefa479d-d3cd-4fc7-9e69-a98843c35ced",
   "metadata": {},
   "outputs": [],
   "source": [
    "data[\"len\"] = data[\"peptide\"].map(len)\n",
    "data = data[data[\"len\"]>=13]\n",
    "data = data[data[\"len\"]<=21]\n",
    "data = data.reset_index(drop=True)"
   ]
  },
  {
   "cell_type": "code",
   "execution_count": null,
   "id": "8a8557ab-4c2f-46d9-afab-be1cdadbbfe8",
   "metadata": {},
   "outputs": [],
   "source": [
    "data[\"len\"].value_counts()"
   ]
  },
  {
   "cell_type": "code",
   "execution_count": null,
   "id": "ca34076c-f0bf-40a2-b36d-7cefc04ca068",
   "metadata": {},
   "outputs": [],
   "source": [
    "data[\"label\"] = 1"
   ]
  },
  {
   "cell_type": "code",
   "execution_count": null,
   "id": "7c4408fa-2010-40af-a2fb-344d36b57131",
   "metadata": {},
   "outputs": [],
   "source": [
    "# generated negative examples\n",
    "def shuffle_str(s):\n",
    "    random.seed(20230304)\n",
    "    str_list = list(s)\n",
    "    random.shuffle(str_list)\n",
    "    return ''.join(str_list)"
   ]
  },
  {
   "cell_type": "code",
   "execution_count": null,
   "id": "712dd096-33c0-4c5b-8b2a-ed508ae53b81",
   "metadata": {},
   "outputs": [],
   "source": [
    "neg_data = pd.DataFrame()\n",
    "neg_data[\"peptide\"] = data[\"peptide\"].map(shuffle_str)"
   ]
  },
  {
   "cell_type": "code",
   "execution_count": null,
   "id": "68ec0401-b69f-46b0-b99c-c028ee30935f",
   "metadata": {},
   "outputs": [],
   "source": [
    "neg_data[\"HLA\"] = data[\"HLA\"]\n",
    "neg_data[\"len\"] = neg_data[\"peptide\"].map(len)\n",
    "neg_data[\"label\"] = 0"
   ]
  },
  {
   "cell_type": "code",
   "execution_count": null,
   "id": "9672d0d6-d179-461d-9d77-7cd20c8ca74f",
   "metadata": {},
   "outputs": [],
   "source": [
    "neg_data"
   ]
  },
  {
   "cell_type": "code",
   "execution_count": null,
   "id": "41492dea-157f-47ce-9a99-2244a6dabb72",
   "metadata": {},
   "outputs": [],
   "source": [
    "pseudo_seq = pd.read_table(\"pseudosequence_MHCII.txt\",header = None, names = [\"HLA\",\"sequence\"])"
   ]
  },
  {
   "cell_type": "code",
   "execution_count": null,
   "id": "1b2e0a8a-14a7-449c-8f7a-72c6afe90229",
   "metadata": {},
   "outputs": [],
   "source": [
    "mono_pep = pd.concat([data,neg_data])\n",
    "mono_pep = mono_pep.reset_index(drop=True)\n",
    "mono_pep = pd.merge(mono_pep,pseudo_seq)"
   ]
  },
  {
   "cell_type": "code",
   "execution_count": null,
   "id": "9ce6ab83-be4c-4552-a611-f72173e41fac",
   "metadata": {},
   "outputs": [],
   "source": [
    "mono_pep"
   ]
  },
  {
   "cell_type": "code",
   "execution_count": null,
   "id": "d158aa3b-d566-4cb1-902d-535fa244d555",
   "metadata": {},
   "outputs": [],
   "source": [
    "mono_pep.to_csv(\"final_mono_pep.csv\")"
   ]
  },
  {
   "cell_type": "markdown",
   "id": "2cf46da7-263b-47f3-8217-fa26a6c85932",
   "metadata": {},
   "source": [
    "# mutiple allele"
   ]
  },
  {
   "cell_type": "code",
   "execution_count": null,
   "id": "fbd42b79-68aa-481d-bb9f-f48ae5d819c1",
   "metadata": {},
   "outputs": [],
   "source": [
    "# mutiple allele\n",
    "mutile_pep = pd.read_csv(\"abelin_multiple_pep.csv\")\n",
    "mutiple_pep = mutile_pep.dropna()\n",
    "mutiple_pep = mutile_pep.drop_duplicates()\n",
    "mutiple_allele = pd.read_csv(\"abelin_mutiple_allele.csv\")"
   ]
  },
  {
   "cell_type": "code",
   "execution_count": null,
   "id": "051e56bd-670c-4184-ae95-5b027eff9b9e",
   "metadata": {},
   "outputs": [],
   "source": [
    "mutiple_pep[\"len\"] = mutiple_pep[\"peptide\"].map(len)\n",
    "mutiple_pep = mutiple_pep[mutiple_pep[\"len\"]>=13]\n",
    "mutiple_pep = mutiple_pep[mutiple_pep[\"len\"]<=21]\n",
    "mutiple_pep = mutiple_pep.reset_index(drop=True)\n",
    "mutiple_pep[\"label\"] = 1"
   ]
  },
  {
   "cell_type": "code",
   "execution_count": null,
   "id": "73b280af-c372-49ba-bb51-d9f8237b5d2e",
   "metadata": {},
   "outputs": [],
   "source": [
    "mutiple_pep[\"len\"].value_counts()"
   ]
  },
  {
   "cell_type": "code",
   "execution_count": null,
   "id": "a89dd98f-b6c1-4715-ac6a-96d8d269ce2d",
   "metadata": {},
   "outputs": [],
   "source": [
    "mutiple_pep"
   ]
  },
  {
   "cell_type": "code",
   "execution_count": null,
   "id": "62f8c546-cbe9-4d8f-b73d-52917f23c41b",
   "metadata": {},
   "outputs": [],
   "source": [
    "neg_mutiple_pep = pd.DataFrame()\n",
    "neg_mutiple_pep[\"peptide\"] = mutiple_pep[\"peptide\"].map(shuffle_str)\n",
    "neg_mutiple_pep[\"Sample Name\"] = mutiple_pep[\"Sample Name\"]\n",
    "neg_mutiple_pep[\"len\"] = neg_mutiple_pep[\"peptide\"].map(len)\n",
    "neg_mutiple_pep[\"label\"] = 0"
   ]
  },
  {
   "cell_type": "code",
   "execution_count": null,
   "id": "ea2707e8-fe34-498c-842a-cb88dc59f210",
   "metadata": {},
   "outputs": [],
   "source": [
    "neg_mutiple_pep"
   ]
  },
  {
   "cell_type": "code",
   "execution_count": null,
   "id": "6e85a49c-88c0-459f-896d-3d3dc8cc9601",
   "metadata": {},
   "outputs": [],
   "source": [
    "Mutiple_pep = pd.concat([mutiple_pep,neg_mutiple_pep])\n",
    "Mutiple_pep = Mutiple_pep.reset_index(drop=True)"
   ]
  },
  {
   "cell_type": "code",
   "execution_count": null,
   "id": "cd63c1f3-0f25-48ca-8096-30f39be1d560",
   "metadata": {},
   "outputs": [],
   "source": [
    "Mutiple_pep = pd.merge(Mutiple_pep,mutiple_allele)"
   ]
  },
  {
   "cell_type": "code",
   "execution_count": null,
   "id": "e6e28da4-85e7-4c7b-93b5-69d813858925",
   "metadata": {},
   "outputs": [],
   "source": [
    "Mutiple_pep = pd.merge(Mutiple_pep,pseudo_seq)"
   ]
  },
  {
   "cell_type": "code",
   "execution_count": null,
   "id": "4a1d3324-336d-4873-b7ff-e24b5d503248",
   "metadata": {},
   "outputs": [],
   "source": [
    "Mutiple_pep"
   ]
  },
  {
   "cell_type": "code",
   "execution_count": null,
   "id": "f9dcc0db-84fd-406a-9976-03def4d9707e",
   "metadata": {},
   "outputs": [],
   "source": [
    "Mutiple_pep.to_csv(\"final_multiple_pep.csv\")"
   ]
  },
  {
   "cell_type": "code",
   "execution_count": null,
   "id": "8b9f9c61-eb59-4ec1-863c-a7ec20452c76",
   "metadata": {},
   "outputs": [],
   "source": [
    "#change allele to suit netMHCIIpan and mixMHC2pred\n",
    "mono_pep[\"net_HLA\"] = "
   ]
  },
  {
   "cell_type": "code",
   "execution_count": null,
   "id": "6763d7a8-4838-48ad-9e9b-71cb4657e9a6",
   "metadata": {},
   "outputs": [],
   "source": [
    "mono_pep[\"HLA\"].value_counts()"
   ]
  },
  {
   "cell_type": "code",
   "execution_count": null,
   "id": "d94d3d41-988d-4654-ab38-b9ed9d8484fc",
   "metadata": {},
   "outputs": [],
   "source": [
    "def hla2net(x):\n",
    "    if len(x)<10:\n",
    "        x = \"HLA-\" + x\n",
    "        x = re.sub(\"_\",\"*\",x)\n",
    "        x = x[0:11] + \":\" + x[11:]\n",
    "    else:\n",
    "        \n",
    "        x = re.sub(\"-\",\"/\",x)\n",
    "        x= x[0:8]+\"*\" + x[8:10] + \":\" + x[10:17] + \"*\" + x[17:19] +\":\" +x[19:]\n",
    "        x = x[4:]\n",
    "        x = \"HLA-\" + x\n",
    "    return x"
   ]
  },
  {
   "cell_type": "code",
   "execution_count": null,
   "id": "9f077843-f2a6-4001-b9f2-17c96f4cca85",
   "metadata": {},
   "outputs": [],
   "source": [
    "mono_pep[\"net_HLA\"] = mono_pep[\"HLA\"].map(hla2net)"
   ]
  },
  {
   "cell_type": "code",
   "execution_count": null,
   "id": "4f93c3a6-355b-48da-aa13-df25842b10f3",
   "metadata": {},
   "outputs": [],
   "source": [
    "def hla2mix(x):\n",
    "    if len(x)<10:\n",
    "        x = x[0:7] + \"_\" + x[7:9]\n",
    "    else:\n",
    "        x = re.sub(\"-\",\"\",x)\n",
    "        x = x[3:]\n",
    "        x= x[0:4]+\"_\" + x[4:6] + \"_\" + x[6:8] + \"__\" + x[8:12] +\"_\" +x[12:14]+\"_\" + x[14:]\n",
    "    return x\n",
    "mono_pep[\"mix_HLA\"] = mono_pep[\"HLA\"].map(hla2mix)"
   ]
  },
  {
   "cell_type": "code",
   "execution_count": null,
   "id": "5de18660-4864-4c9f-887e-4c44c2b115e0",
   "metadata": {},
   "outputs": [],
   "source": [
    "mono_pep[\"mix_HLA\"].value_counts()"
   ]
  },
  {
   "cell_type": "code",
   "execution_count": null,
   "id": "8d777484-da0d-4135-810a-1398c1731c6e",
   "metadata": {},
   "outputs": [],
   "source": [
    "mono_pep.to_csv(\"final_mono_pep.csv\")"
   ]
  },
  {
   "cell_type": "code",
   "execution_count": null,
   "id": "b81c333b-b9cd-4166-b31a-b0549385e9a4",
   "metadata": {},
   "outputs": [],
   "source": [
    "Mutiple_pep[\"net_HLA\"] = Mutiple_pep[\"HLA\"].map(hla2net)\n",
    "Mutiple_pep[\"mix_HLA\"] = Mutiple_pep[\"HLA\"].map(hla2mix)"
   ]
  },
  {
   "cell_type": "code",
   "execution_count": null,
   "id": "00783e47-8400-4938-b3a6-32e1b4591c97",
   "metadata": {},
   "outputs": [],
   "source": [
    "Mutiple_pep.to_csv(\"final_multiple_pep.csv\")"
   ]
  },
  {
   "cell_type": "code",
   "execution_count": null,
   "id": "d3fe7ac4-51a7-40c6-ba3b-b88b0d3ea1a3",
   "metadata": {},
   "outputs": [],
   "source": [
    "Mutiple_pep"
   ]
  },
  {
   "cell_type": "markdown",
   "id": "3f2656be-a462-451e-955f-42c23317ece3",
   "metadata": {},
   "source": [
    "#result"
   ]
  },
  {
   "cell_type": "code",
   "execution_count": null,
   "id": "07ea394d-1679-4ff5-897f-e48aa74151f5",
   "metadata": {},
   "outputs": [],
   "source": [
    "import pandas as pd\n",
    "import matplotlib as mpl\n",
    "import matplotlib.pyplot as plt\n",
    "from sklearn.metrics import auc,roc_curve,precision_recall_curve\n",
    "from sklearn.metrics import confusion_matrix\n",
    "import math"
   ]
  },
  {
   "cell_type": "code",
   "execution_count": null,
   "id": "86f1d49c-bb93-4199-87df-1adc01a3df89",
   "metadata": {},
   "outputs": [],
   "source": [
    "BA_mono = pd.read_csv(\"result/BA_Abelin_mono_result.csv\")\n",
    "BA_mono.pop(\"pep_blosum\")\n",
    "BA_mono.pop(\"MHC_blosum\")\n",
    "BA_mono.pop(\"pep_blosum\")\n",
    "BA_mono.pop(\"MHC_blosum\")"
   ]
  },
  {
   "cell_type": "code",
   "execution_count": null,
   "id": "a0ff59f8-8a6d-4c17-9d84-fe689491e6b0",
   "metadata": {},
   "outputs": [],
   "source": [
    "BA_fpr,BA_tpr,_ = roc_curve(BA_mono[\"label\"],1-BA_mono[\"Rank\"],pos_label=1)\n",
    "BA_roc = auc(BA_fpr,BA_tpr)\n",
    "BA_roc"
   ]
  },
  {
   "cell_type": "code",
   "execution_count": null,
   "id": "0628cae4-8962-4b20-8860-6b7eff6d140a",
   "metadata": {},
   "outputs": [],
   "source": [
    "#multiple allele\n",
    "BA_multiple = pd.read_csv(\"result/BA_Abelin_multiple_result.csv\")\n",
    "BA_multiple.pop(\"MHC_blosum\")\n",
    "BA_multiple.pop(\"pep_blosum\")\n",
    "BA_multiple"
   ]
  },
  {
   "cell_type": "code",
   "execution_count": null,
   "id": "90771d9c-5233-4820-8b7f-a28ba5ae31df",
   "metadata": {},
   "outputs": [],
   "source": [
    "label = []\n",
    "Rank = []\n",
    "for s in BA_multiple[\"Sample Name\"].unique():\n",
    "    BA_multipe_s = BA_multiple[BA_multiple[\"Sample Name\"] == s]\n",
    "    for p in BA_multipe_s[\"peptide\"].unique():\n",
    "        BA_multipe_p = BA_multipe_s[BA_multipe_s[\"peptide\"] == p]\n",
    "        label.append(BA_multipe_p[\"label\"][BA_multipe_p[\"Rank\"].idxmin()])\n",
    "        Rank.append(BA_multipe_p[\"Rank\"][BA_multipe_p[\"Rank\"].idxmin()])\n",
    "BA_multiple_result = pd.DataFrame({\"label\":label,\"Rank\":Rank})"
   ]
  },
  {
   "cell_type": "code",
   "execution_count": null,
   "id": "df9952c2-3241-4ba0-aed2-51dc2077f3f0",
   "metadata": {},
   "outputs": [],
   "source": [
    "BA_mono_result = BA_mono[[\"label\",\"Rank\"]]\n",
    "BA_result = pd.concat([BA_mono_result,BA_multiple_result])\n",
    "BA_fpr,BA_tpr,_ = roc_curve(BA_result[\"label\"],1-BA_result[\"Rank\"],pos_label=1)\n",
    "BA_roc = auc(BA_fpr,BA_tpr)\n",
    "BA_roc"
   ]
  },
  {
   "cell_type": "markdown",
   "id": "e0a6ee58-c0a0-40c5-87ed-5e2e377b9ce1",
   "metadata": {},
   "source": [
    "# mixMHC2pred"
   ]
  },
  {
   "cell_type": "code",
   "execution_count": null,
   "id": "efca7f06-70cc-4f2c-83e4-bacae8f43013",
   "metadata": {},
   "outputs": [],
   "source": [
    "# show result in different length and allele"
   ]
  },
  {
   "cell_type": "code",
   "execution_count": null,
   "id": "4d576b67-e785-43c0-9f0f-5aef8bd8f3d3",
   "metadata": {},
   "outputs": [],
   "source": [
    "mix_mono = pd.read_csv(\"result/mixMHC2pred_Abelin_mono_result.csv\")\n",
    "mix_mono = pd.merge(mix_mono[[\"Peptide\",\"%Rank_best\",\"BestAllele\"]],mono_pep[[\"peptide\",\"label\",\"mix_HLA\"]],left_on=[\"Peptide\",\"BestAllele\"],right_on=[\"peptide\",\"mix_HLA\"]).drop_duplicates()"
   ]
  },
  {
   "cell_type": "code",
   "execution_count": null,
   "id": "bef50583-790c-4582-b326-03cc0d9ab255",
   "metadata": {},
   "outputs": [],
   "source": [
    "mix_fpr,mix_tpr,_ = roc_curve(mix_mono[\"label\"],1-mix_mono[\"%Rank_best\"],pos_label=1)\n",
    "mix_mono_roc = auc(mix_fpr,mix_tpr)\n",
    "mix_mono_roc"
   ]
  },
  {
   "cell_type": "code",
   "execution_count": null,
   "id": "637321b8-8e42-42e2-904c-f7ecc5abef0d",
   "metadata": {},
   "outputs": [],
   "source": [
    "#multiple\n",
    "mix_multi = pd.read_csv(\"result/mixMHC2pred_Abelin_multiple_result.csv\")\n",
    "mix_multi = pd.merge(mix_multi[[\"Peptide\",\"%Rank_best\",\"BestAllele\"]],Mutiple_pep[[\"peptide\",\"Sample Name\",\"label\",\"mix_HLA\"]],left_on=[\"Peptide\",\"BestAllele\"],right_on=[\"peptide\",\"mix_HLA\"]).drop_duplicates()"
   ]
  },
  {
   "cell_type": "code",
   "execution_count": null,
   "id": "bdb5ae15-a438-4fa5-9d56-7de25b04e984",
   "metadata": {},
   "outputs": [],
   "source": [
    "label = []\n",
    "Rank = []\n",
    "for s in mix_multi[\"Sample Name\"].unique():\n",
    "    mix_multi_s = mix_multi[mix_multi[\"Sample Name\"] == s]\n",
    "    for p in mix_multi_s[\"peptide\"].unique():\n",
    "        mix_multi_p = mix_multi_s[mix_multi_s[\"peptide\"] == p]\n",
    "        label.append(mix_multi_p[\"label\"][mix_multi_p[\"%Rank_best\"].idxmin()])\n",
    "        Rank.append(mix_multi_p[\"%Rank_best\"][mix_multi_p[\"%Rank_best\"].idxmin()])\n",
    "mix_multi_result = pd.DataFrame({\"label\":label,\"%Rank_best\":Rank})"
   ]
  },
  {
   "cell_type": "code",
   "execution_count": null,
   "id": "7673854c-5381-4352-9fad-620b4df49a04",
   "metadata": {},
   "outputs": [],
   "source": [
    "mix_mono_result = mix_mono[[\"label\",\"%Rank_best\"]]\n",
    "mix_result = pd.concat([mix_mono_result,mix_multi_result])\n",
    "mix_fpr,mix_tpr,_ = roc_curve(mix_result[\"label\"],1-mix_result[\"%Rank_best\"],pos_label=1)\n",
    "mix_roc = auc(mix_fpr,mix_tpr)\n",
    "mix_roc"
   ]
  },
  {
   "cell_type": "markdown",
   "id": "f7844e5b-9c2c-430b-ba43-6cf42eafbf03",
   "metadata": {},
   "source": [
    "# NetMHCIIpan"
   ]
  },
  {
   "cell_type": "code",
   "execution_count": null,
   "id": "fd286120-885d-4bba-8a0e-a3aa950b072b",
   "metadata": {},
   "outputs": [],
   "source": [
    "net_mono=pd.read_csv(\"netMHCIIpan/netMHCIIpan_mono_result.csv\")\n",
    "net_mono = pd.merge(net_mono[[\"peptide\",\"percentile_rank\",\"allele\"]],mono_pep[[\"peptide\",\"label\",\"net_HLA\"]],left_on=[\"peptide\",\"allele\"],right_on=[\"peptide\",\"net_HLA\"]).drop_duplicates()"
   ]
  },
  {
   "cell_type": "code",
   "execution_count": null,
   "id": "9815756a-e560-4831-942c-97bab3eab33f",
   "metadata": {},
   "outputs": [],
   "source": [
    "net_fpr,net_tpr,_ = roc_curve(net_mono[\"label\"],1-net_mono[\"percentile_rank\"],pos_label=1)\n",
    "net_mono_roc = auc(net_fpr,net_tpr)\n",
    "net_mono_roc"
   ]
  },
  {
   "cell_type": "code",
   "execution_count": null,
   "id": "b774d47f-c618-49a5-8bd5-0bb1ad8dfbc1",
   "metadata": {},
   "outputs": [],
   "source": [
    "net_multi = pd.read_csv(\"netMHCIIpan/netMHCIIpan_multiple_result.csv\")\n",
    "net_multi = pd.merge(net_multi[[\"peptide\",\"percentile_rank\",\"allele\"]],Mutiple_pep[[\"peptide\",\"Sample Name\",\"label\",\"net_HLA\"]],left_on=[\"peptide\",\"allele\"],right_on=[\"peptide\",\"net_HLA\"]).drop_duplicates()"
   ]
  },
  {
   "cell_type": "code",
   "execution_count": null,
   "id": "a3d1ee8d-7a16-41ac-b541-992b35f1ef5d",
   "metadata": {},
   "outputs": [],
   "source": [
    "label = []\n",
    "Rank = []\n",
    "for s in net_multi[\"Sample Name\"].unique():\n",
    "    net_multi_s = net_multi[net_multi[\"Sample Name\"] == s]\n",
    "    for p in net_multi_s[\"peptide\"].unique():\n",
    "        net_multi_p = net_multi_s[net_multi_s[\"peptide\"] == p]\n",
    "        label.append(net_multi_p[\"label\"][net_multi_p[\"percentile_rank\"].idxmin()])\n",
    "        Rank.append(net_multi_p[\"percentile_rank\"][net_multi_p[\"percentile_rank\"].idxmin()])\n",
    "net_multi_result = pd.DataFrame({\"label\":label,\"percentile_rank\":Rank})"
   ]
  },
  {
   "cell_type": "code",
   "execution_count": null,
   "id": "e0cbbe56-60c1-4111-be7c-1e83d9b8d1ed",
   "metadata": {},
   "outputs": [],
   "source": [
    "net_mono_result = net_mono[[\"label\",\"percentile_rank\"]]\n",
    "net_result = pd.concat([net_mono_result,net_multi_result])\n",
    "net_fpr,net_tpr,_ = roc_curve(net_result[\"label\"],1-net_result[\"percentile_rank\"],pos_label=1)\n",
    "net_roc = auc(net_fpr,net_tpr)\n",
    "net_roc"
   ]
  },
  {
   "cell_type": "markdown",
   "id": "43a5c6bd-c640-4538-94ae-ecdf6f326ee8",
   "metadata": {},
   "source": [
    "# Figure 1B"
   ]
  },
  {
   "cell_type": "code",
   "execution_count": null,
   "id": "73d953c4-8089-4f58-9888-eb93041d2630",
   "metadata": {},
   "outputs": [],
   "source": [
    "Automate = pd.read_csv(\"data/Automated_benchmark.csv\")\n",
    "BA_result = pd.read_csv(\"data/BA_Automated_prediction_result.csv\")\n",
    "BA_fpr,BA_tpr,_ = roc_curve(BA_result[\"label\"],BA_result[\"prediction\"],pos_label=1)\n",
    "BA_roc = auc(BA_fpr,BA_tpr)\n",
    "netMHC_result = pd.read_csv(\"data/netMHCIIpan_Auto_filter_ba_result.csv\")\n",
    "netMHC_result = netMHC_result[[\"allele\",\"percentile_rank\",\"peptide\",\"ic50\"]]\n",
    "Automate = Automate[[\"allele\",\"allele1\",\"peptide_sequence\",\"measurement_value\"]]\n",
    "netMHC_result = pd.merge(netMHC_result,Automate,left_on=[\"allele\",\"peptide\"],right_on=[\"allele\",\"peptide_sequence\"]).drop_duplicates()\n",
    "BA_allele = pd.read_csv(\"data/BA_allele.csv\",header=None,names=[\"allele\"])\n",
    "bool = netMHC_result[\"allele1\"].map(lambda x : x in BA_allele[\"allele\"].values)\n",
    "netMHC_result = netMHC_result[bool]\n",
    "net_fpr,net_tpr,_ = roc_curve(netMHC_result[\"measurement_value\"],1-netMHC_result[\"percentile_rank\"],pos_label=1)\n",
    "net_roc = auc(net_fpr,net_tpr)\n",
    "mix_result = pd.read_csv(\"data/mixMHC2pred_Auto_filter_ba_result.csv\")\n",
    "mix_data = pd.read_csv(\"data/mixMHC2pred_Automated.csv\")\n",
    "mix_result = pd.merge(mix_result[[\"Peptide\",\"BestAllele\",\"%Rank_best\"]],mix_data[[\"Description\",\"new_allele\",\"label\",\"Allele Name1\"]],left_on =[\"Peptide\",\"BestAllele\"],right_on=[\"Description\",\"new_allele\"]).drop_duplicates()\n",
    "mix_result = mix_result[mix_result[\"Allele Name1\"].isin(BA_allele[\"allele\"])]\n",
    "mix_fpr,mix_tpr,_ = roc_curve(mix_result[\"label\"],1-mix_result[\"%Rank_best\"],pos_label=1)\n",
    "mix_roc = auc(mix_fpr,mix_tpr)\n",
    "cmap = plt.get_cmap('Set1')\n",
    "colors = [mpl.colors.rgb2hex(cmap(i)[:3]) for i in range(3)]\n",
    "fig,ax = plt.subplots(figsize = (8,8))\n",
    "lw = 2\n",
    "plt.plot(BA_fpr,BA_tpr,lw=lw,color = colors[0],label=\"BA_model (AUC = %0.4f)\" % BA_roc,)\n",
    "plt.plot(net_fpr,net_tpr,lw=lw,color = colors[1],label=\"NetMHCIIpan_BA (AUC = %0.4f)\" % net_roc,)\n",
    "plt.plot(mix_fpr,mix_tpr,lw=lw,color = colors[2],label=\"mixMHC2pred (AUC = %0.4f)\" % mix_roc,)\n",
    "plt.plot([0, 1], [0, 1], color=\"navy\", lw=lw, linestyle=\"--\")\n",
    "plt.xlim([0.0, 1.0])\n",
    "plt.ylim([0.0, 1.05])\n",
    "plt.xlabel(\"False Positive Rate\",fontsize = 14)\n",
    "plt.ylabel(\"True Positive Rate\",fontsize = 14)\n",
    "plt.title(\"\")\n",
    "plt.legend(loc=\"lower right\",fontsize = 12)\n",
    "plt.show()"
   ]
  },
  {
   "cell_type": "code",
   "execution_count": null,
   "id": "429c5f56-adaa-47d2-9465-df7e22989d9b",
   "metadata": {},
   "outputs": [],
   "source": [
    "Automate = pd.read_csv(\"data/Automated_benchmark.csv\")\n",
    "BA_result = pd.read_csv(\"data/BA_Automated_prediction_rank_result.csv\")"
   ]
  },
  {
   "cell_type": "code",
   "execution_count": null,
   "id": "1fdea89a-adb7-4986-89aa-8de9a5a52149",
   "metadata": {},
   "outputs": [],
   "source": [
    "BA_result"
   ]
  },
  {
   "cell_type": "code",
   "execution_count": null,
   "id": "02152fe3-2d60-4f76-a261-1cfff1f9b75b",
   "metadata": {},
   "outputs": [],
   "source": [
    "BA_result[\"len\"] = BA_result[\"pep\"].map(len)\n",
    "for i in BA_result[\"len\"].unique():\n",
    "    BA_result_l = BA_result[BA_result[\"len\"] == i]\n",
    "    BA_fpr,BA_tpr,_ = roc_curve(BA_result_l[\"label\"],BA_result_l[\"prediction\"],pos_label=1)\n",
    "    BA_roc = auc(BA_fpr,BA_tpr)\n",
    "    print(\"Length:{},ROC:{}\".format(i,BA_roc))"
   ]
  },
  {
   "cell_type": "code",
   "execution_count": null,
   "id": "659c6f96-a77c-4e51-aa4d-234f5a089442",
   "metadata": {
    "tags": []
   },
   "outputs": [],
   "source": [
    "Allele_Name = []\n",
    "ROC = []\n",
    "for i in BA_result[\"Allele Name1\"].unique():\n",
    "    BA_result_l = BA_result[BA_result[\"Allele Name1\"] == i]\n",
    "    BA_fpr,BA_tpr,_ = roc_curve(BA_result_l[\"label\"],BA_result_l[\"prediction\"],pos_label=1)\n",
    "    BA_roc = auc(BA_fpr,BA_tpr)\n",
    "    Allele_Name.append(i)\n",
    "    ROC.append(BA_roc)\n",
    "    print(\"Allele Name:{},ROC:{}\".format(i,BA_roc))\n",
    "BA_allele_result = pd.DataFrame({\"Allele Name\":Allele_Name,\"BA_model\":ROC})"
   ]
  },
  {
   "cell_type": "code",
   "execution_count": null,
   "id": "54d2c531-c607-4026-8af5-9425d92b6d91",
   "metadata": {},
   "outputs": [],
   "source": [
    "BA_allele_result"
   ]
  },
  {
   "cell_type": "code",
   "execution_count": null,
   "id": "3c9e962b-5914-4abc-9341-94a7650a3793",
   "metadata": {},
   "outputs": [],
   "source": [
    "netMHC_result[\"len\"] = netMHC_result[\"peptide\"].map(len)"
   ]
  },
  {
   "cell_type": "code",
   "execution_count": null,
   "id": "21df1f17-ca5c-4e49-ac4b-2f1bae0be9d0",
   "metadata": {},
   "outputs": [],
   "source": [
    "def split_roc(df,col,lab,pre):\n",
    "    Allele_Name = []\n",
    "    ROC = []\n",
    "    for i in df[col].unique():\n",
    "        df_l = df[df[col] == i]\n",
    "        df_fpr,df_tpr,_ = roc_curve(df_l[lab],1-df_l[pre],pos_label=1)\n",
    "        df_roc = auc(df_fpr,df_tpr)\n",
    "        Allele_Name.append(i)\n",
    "        ROC.append(df_roc)\n",
    "    allele_result = pd.DataFrame({\"Allele Name\":Allele_Name,\"roc\":ROC})\n",
    "    return allele_result"
   ]
  },
  {
   "cell_type": "code",
   "execution_count": null,
   "id": "06867e0b-a704-4a62-a796-9346b424b522",
   "metadata": {},
   "outputs": [],
   "source": [
    "split_roc(netMHC_result,\"len\",\"measurement_value\",\"percentile_rank\")"
   ]
  },
  {
   "cell_type": "code",
   "execution_count": null,
   "id": "324a80b0-5083-4ad9-9b22-30fc167bff26",
   "metadata": {},
   "outputs": [],
   "source": [
    "net_allele_roc = split_roc(netMHC_result,\"allele1\",\"measurement_value\",\"percentile_rank\")"
   ]
  },
  {
   "cell_type": "code",
   "execution_count": null,
   "id": "388807bf-0b78-40ea-a233-85e7bf9c786b",
   "metadata": {},
   "outputs": [],
   "source": [
    "mix_result[\"len\"] = mix_result[\"Peptide\"].map(len)"
   ]
  },
  {
   "cell_type": "code",
   "execution_count": null,
   "id": "25bfb4b2-3c64-4ba2-8371-0632bf161652",
   "metadata": {},
   "outputs": [],
   "source": [
    "mix_result"
   ]
  },
  {
   "cell_type": "code",
   "execution_count": null,
   "id": "8105a3b3-f746-4278-b010-801018442305",
   "metadata": {},
   "outputs": [],
   "source": [
    "split_roc(mix_result,\"len\",\"label\",\"%Rank_best\")"
   ]
  },
  {
   "cell_type": "code",
   "execution_count": null,
   "id": "9db84104-ef27-4849-bd10-bf8bb12e8da7",
   "metadata": {},
   "outputs": [],
   "source": [
    "mix_allele_roc = split_roc(mix_result,\"Allele Name1\",\"label\",\"%Rank_best\")"
   ]
  },
  {
   "cell_type": "code",
   "execution_count": null,
   "id": "3c7574c9-918d-49cd-925c-4aa847c61b9e",
   "metadata": {},
   "outputs": [],
   "source": [
    "df1 = pd.merge(BA_allele_result,net_allele_roc)\n",
    "df1 = df1.rename(columns={\"roc\":\"netMHCIIpan\"})\n",
    "df2 = pd.merge(df1,mix_allele_roc)\n",
    "df2 = df2.rename(columns={\"roc\":\"mixMHC2pred\"})"
   ]
  },
  {
   "cell_type": "code",
   "execution_count": null,
   "id": "360acd7c-5b2e-4236-a8fd-4643886adc47",
   "metadata": {},
   "outputs": [],
   "source": [
    "df2.to_csv(\"fig1b_allele.csv\")"
   ]
  },
  {
   "cell_type": "code",
   "execution_count": null,
   "id": "ea47beb2-efe5-42be-b70a-2545368f015a",
   "metadata": {},
   "outputs": [],
   "source": []
  }
 ],
 "metadata": {
  "kernelspec": {
   "display_name": "Python 3 (ipykernel)",
   "language": "python",
   "name": "python3"
  },
  "language_info": {
   "codemirror_mode": {
    "name": "ipython",
    "version": 3
   },
   "file_extension": ".py",
   "mimetype": "text/x-python",
   "name": "python",
   "nbconvert_exporter": "python",
   "pygments_lexer": "ipython3",
   "version": "3.9.15"
  }
 },
 "nbformat": 4,
 "nbformat_minor": 5
}
